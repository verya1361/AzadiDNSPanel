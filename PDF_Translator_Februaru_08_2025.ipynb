{
  "nbformat": 4,
  "nbformat_minor": 0,
  "metadata": {
    "colab": {
      "provenance": [],
      "gpuType": "T4",
      "collapsed_sections": [
        "dggJ6OF0Xjsk"
      ],
      "include_colab_link": true
    },
    "kernelspec": {
      "name": "python3",
      "display_name": "Python 3"
    },
    "language_info": {
      "name": "python"
    },
    "accelerator": "GPU"
  },
  "cells": [
    {
      "cell_type": "markdown",
      "metadata": {
        "id": "view-in-github",
        "colab_type": "text"
      },
      "source": [
        "<a href=\"https://colab.research.google.com/github/verya1361/AzadiDNSPanel/blob/main/PDF_Translator_Februaru_08_2025.ipynb\" target=\"_parent\"><img src=\"https://colab.research.google.com/assets/colab-badge.svg\" alt=\"Open In Colab\"/></a>"
      ]
    },
    {
      "cell_type": "markdown",
      "source": [
        "#Install"
      ],
      "metadata": {
        "id": "dggJ6OF0Xjsk"
      }
    },
    {
      "cell_type": "code",
      "source": [],
      "metadata": {
        "id": "wg7VVj73xXlS"
      },
      "execution_count": 51,
      "outputs": []
    },
    {
      "cell_type": "markdown",
      "source": [
        "# Settings"
      ],
      "metadata": {
        "id": "0OQzb1u9X23_"
      }
    },
    {
      "cell_type": "code",
      "source": [
        "\n",
        "#@title فراخوانی کلید دسترسی\n",
        "import google.generativeai as genai\n",
        "\n",
        "GOOGLE_API_KEY = \"\" #@param {type:\"string\"}\n",
        "genai.configure(api_key=GOOGLE_API_KEY)"
      ],
      "metadata": {
        "cellView": "form",
        "id": "3you3uNiA2r9"
      },
      "execution_count": 52,
      "outputs": []
    },
    {
      "cell_type": "code",
      "source": [
        "\n",
        "#@title آپلود فایل PDF\n",
        "from google.colab import files\n",
        "import PyPDF2\n",
        "import io\n",
        "\n",
        "# آپلود فایل\n",
        "uploaded = files.upload()\n",
        "\n",
        "if not uploaded:\n",
        "    raise ValueError(\"هیچ فایلی آپلود نشد. لطفاً یک فایل PDF آپلود کنید.\")\n",
        "\n",
        "filename = list(uploaded.keys())[0]\n",
        "\n",
        "# بررسی فرمت فایل\n",
        "if not filename.lower().endswith('.pdf'):\n",
        "    raise ValueError(\"فرمت فایل اشتباه است. لطفاً یک فایل PDF آپلود کنید.\")\n",
        "\n",
        "# خواندن فایل PDF\n",
        "pdf_reader = PyPDF2.PdfReader(io.BytesIO(uploaded[filename]))\n",
        "num_pages = len(pdf_reader.pages)\n",
        "print(f\"تعداد کل صفحات: {num_pages}\")"
      ],
      "metadata": {
        "cellView": "form",
        "id": "YNyB0yQXA-V9"
      },
      "execution_count": null,
      "outputs": []
    },
    {
      "cell_type": "code",
      "source": [
        "\n",
        "#@title تنظیم محدوده صفحات\n",
        "start_page = 1  #@param {type:\"slider\", min:1, max:1000, step:1}\n",
        "end_page = 72  #@param {type:\"slider\", min:1, max:1000, step:1}\n",
        "\n",
        "# بررسی محدوده صفحات\n",
        "if start_page < 1 or end_page > num_pages:\n",
        "    raise ValueError(f\"شماره صفحات باید بین 1 و {num_pages} باشد.\")\n",
        "\n",
        "print(f\"ترجمه از صفحه {start_page} تا صفحه {end_page} انجام خواهد شد\")"
      ],
      "metadata": {
        "cellView": "form",
        "id": "trogQ_oof24H"
      },
      "execution_count": null,
      "outputs": []
    },
    {
      "cell_type": "markdown",
      "source": [
        "#Translate"
      ],
      "metadata": {
        "id": "v6A_2TYGYIDn"
      }
    },
    {
      "cell_type": "code",
      "source": [
        "#@title ترجمه به فارسی\n",
        "#@markdown ### `در صورت مشاهده خطا از سمت گوگل جمنای ، مقدار نوار اسلایدر زیر را با عدد بالاتری تست کنید یا توکن را تغییر دهید`\n",
        "\n",
        "sleep_time = 3 #@param {type:\"slider\", min:2, max:5, step:1}\n",
        "\n",
        "from tqdm.notebook import tqdm\n",
        "import time\n",
        "from tenacity import retry, stop_after_attempt, wait_exponential\n",
        "from docx import Document\n",
        "from docx.enum.text import WD_PARAGRAPH_ALIGNMENT\n",
        "import re\n",
        "\n",
        "def clean_text(text):\n",
        "    # محدود کردن طول متن\n",
        "    text = text[:15000]  # محدود کردن به 15000 کاراکتر\n",
        "    text = ''.join(char for char in text if char == '\\n' or char == '\\t' or (ord(char) >= 32))\n",
        "    text = text.replace('\\x00', '')\n",
        "    return text\n",
        "\n",
        "@retry(stop=stop_after_attempt(5), wait=wait_exponential(multiplier=2, min=4, max=20))\n",
        "def translate_page_with_retry(text):\n",
        "    model = genai.GenerativeModel('gemini-2.0-flash-exp')\n",
        "    prompt = f\"\"\"متن زیر را به فارسی عامیانه و روان ترجمه کن. نکات مهم:\n",
        "\n",
        "1. فقط ترجمه خالص و عامیانه، بدون هیچ توضیح اضافه\n",
        "2. به شدت مهمه که تا معنای واقعی جملات رو درک نکنی حق ترجمه نداری\n",
        "3. استفاده از زبان محاوره‌ای و روزمره\n",
        "4. ترجمه نباید بی ربط باشه و سعی کن تا جایی که ممکنه حرفه ای عمل کنی\n",
        "\n",
        "متن برای ترجمه:\n",
        "{text}\"\"\"\n",
        "    time.sleep(sleep_time + 2)  # افزایش زمان انتظار\n",
        "    response = model.generate_content(prompt)\n",
        "    return clean_text(response.text)\n",
        "\n",
        "# ایجاد سند Word جدید\n",
        "doc = Document()\n",
        "\n",
        "# شروع ترجمه صفحات\n",
        "with tqdm(total=end_page-start_page+1, desc=\"ترجمه صفحات\") as pbar:\n",
        "    for page_num in range(start_page-1, end_page):\n",
        "        try:\n",
        "            page_text = pdf_reader.pages[page_num].extract_text().strip()\n",
        "\n",
        "            # بررسی خالی بودن صفحه\n",
        "            if len(page_text) < 50:\n",
        "                print(f\"\\nصفحه {page_num+1} خالی یا غیر قابل پردازش است - رد شد\")\n",
        "                pbar.update(1)\n",
        "                continue\n",
        "\n",
        "            translated_page = translate_page_with_retry(clean_text(page_text))\n",
        "\n",
        "            # اضافه کردن شماره صفحه\n",
        "            heading = doc.add_paragraph(f\"=== صفحه {page_num+1} ===\")\n",
        "            heading.alignment = WD_PARAGRAPH_ALIGNMENT.RIGHT\n",
        "\n",
        "            # اضافه کردن متن ترجمه شده\n",
        "            paragraph = doc.add_paragraph(translated_page)\n",
        "            paragraph.alignment = WD_PARAGRAPH_ALIGNMENT.RIGHT\n",
        "\n",
        "            pbar.update(1)\n",
        "            time.sleep(2)  # استراحت بین صفحات\n",
        "\n",
        "        except Exception as e:\n",
        "            print(f\"\\nخطا در صفحه {page_num+1}: {str(e)}\")\n",
        "            time.sleep(5)  # استراحت بیشتر در صورت خطا\n",
        "            continue\n",
        "\n",
        "# ذخیره فایل\n",
        "doc.save(f\"{filename}_translated.docx\")\n",
        "print(\"\\nترجمه با موفقیت به پایان رسید!\")"
      ],
      "metadata": {
        "cellView": "form",
        "id": "tng2cFOKQdAk",
        "outputId": "266918f7-27af-4b28-a519-2fabbbe7f943",
        "colab": {
          "base_uri": "https://localhost:8080/",
          "height": 211
        }
      },
      "execution_count": 53,
      "outputs": [
        {
          "output_type": "error",
          "ename": "NameError",
          "evalue": "name 'end_page' is not defined",
          "traceback": [
            "\u001b[0;31m---------------------------------------------------------------------------\u001b[0m",
            "\u001b[0;31mNameError\u001b[0m                                 Traceback (most recent call last)",
            "\u001b[0;32m<ipython-input-53-d6015e6a4a54>\u001b[0m in \u001b[0;36m<cell line: 0>\u001b[0;34m()\u001b[0m\n\u001b[1;32m     38\u001b[0m \u001b[0;34m\u001b[0m\u001b[0m\n\u001b[1;32m     39\u001b[0m \u001b[0;31m# شروع ترجمه صفحات\u001b[0m\u001b[0;34m\u001b[0m\u001b[0;34m\u001b[0m\u001b[0m\n\u001b[0;32m---> 40\u001b[0;31m \u001b[0;32mwith\u001b[0m \u001b[0mtqdm\u001b[0m\u001b[0;34m(\u001b[0m\u001b[0mtotal\u001b[0m\u001b[0;34m=\u001b[0m\u001b[0mend_page\u001b[0m\u001b[0;34m-\u001b[0m\u001b[0mstart_page\u001b[0m\u001b[0;34m+\u001b[0m\u001b[0;36m1\u001b[0m\u001b[0;34m,\u001b[0m \u001b[0mdesc\u001b[0m\u001b[0;34m=\u001b[0m\u001b[0;34m\"ترجمه صفحات\"\u001b[0m\u001b[0;34m)\u001b[0m \u001b[0;32mas\u001b[0m \u001b[0mpbar\u001b[0m\u001b[0;34m:\u001b[0m\u001b[0;34m\u001b[0m\u001b[0;34m\u001b[0m\u001b[0m\n\u001b[0m\u001b[1;32m     41\u001b[0m     \u001b[0;32mfor\u001b[0m \u001b[0mpage_num\u001b[0m \u001b[0;32min\u001b[0m \u001b[0mrange\u001b[0m\u001b[0;34m(\u001b[0m\u001b[0mstart_page\u001b[0m\u001b[0;34m-\u001b[0m\u001b[0;36m1\u001b[0m\u001b[0;34m,\u001b[0m \u001b[0mend_page\u001b[0m\u001b[0;34m)\u001b[0m\u001b[0;34m:\u001b[0m\u001b[0;34m\u001b[0m\u001b[0;34m\u001b[0m\u001b[0m\n\u001b[1;32m     42\u001b[0m         \u001b[0;32mtry\u001b[0m\u001b[0;34m:\u001b[0m\u001b[0;34m\u001b[0m\u001b[0;34m\u001b[0m\u001b[0m\n",
            "\u001b[0;31mNameError\u001b[0m: name 'end_page' is not defined"
          ]
        }
      ]
    },
    {
      "cell_type": "markdown",
      "source": [
        "اگر هنگام ترجمه ، اخطار زیر نمایش داده شد ولی پروسه همچنان در حال پیشروی بود اخطار را نادیده بگیرید\n",
        "\n",
        "WARNING:tornado.access ....\n",
        "\n",
        "و اگر غیر از این ، خطایی مشاهده کردید بهمون اطلاع بدین"
      ],
      "metadata": {
        "id": "fJcpYQQUYAu4"
      }
    },
    {
      "cell_type": "markdown",
      "source": [
        "**<font color='blue'> `-----------------------------------` </font>**"
      ],
      "metadata": {
        "id": "pxNr9CdjWbkG"
      }
    },
    {
      "cell_type": "code",
      "source": [
        "#@title Docx دانلود با فرمت\n",
        "from google.colab import files\n",
        "files.download(f\"{filename}_translated.docx\")"
      ],
      "metadata": {
        "cellView": "form",
        "id": "p5L8t-iC_wc5",
        "outputId": "554899f1-14d7-4046-a24f-16c6df7c6f97",
        "colab": {
          "base_uri": "https://localhost:8080/",
          "height": 297
        }
      },
      "execution_count": 54,
      "outputs": [
        {
          "output_type": "error",
          "ename": "FileNotFoundError",
          "evalue": "Cannot find file: nn.pdf_translated.docx",
          "traceback": [
            "\u001b[0;31m---------------------------------------------------------------------------\u001b[0m",
            "\u001b[0;31mFileNotFoundError\u001b[0m                         Traceback (most recent call last)",
            "\u001b[0;32m<ipython-input-54-52e72ca4e6c7>\u001b[0m in \u001b[0;36m<cell line: 0>\u001b[0;34m()\u001b[0m\n\u001b[1;32m      1\u001b[0m \u001b[0;31m#@title Docx دانلود با فرمت\u001b[0m\u001b[0;34m\u001b[0m\u001b[0;34m\u001b[0m\u001b[0m\n\u001b[1;32m      2\u001b[0m \u001b[0;32mfrom\u001b[0m \u001b[0mgoogle\u001b[0m\u001b[0;34m.\u001b[0m\u001b[0mcolab\u001b[0m \u001b[0;32mimport\u001b[0m \u001b[0mfiles\u001b[0m\u001b[0;34m\u001b[0m\u001b[0;34m\u001b[0m\u001b[0m\n\u001b[0;32m----> 3\u001b[0;31m \u001b[0mfiles\u001b[0m\u001b[0;34m.\u001b[0m\u001b[0mdownload\u001b[0m\u001b[0;34m(\u001b[0m\u001b[0;34mf\"{filename}_translated.docx\"\u001b[0m\u001b[0;34m)\u001b[0m\u001b[0;34m\u001b[0m\u001b[0;34m\u001b[0m\u001b[0m\n\u001b[0m",
            "\u001b[0;32m/usr/local/lib/python3.11/dist-packages/google/colab/files.py\u001b[0m in \u001b[0;36mdownload\u001b[0;34m(filename)\u001b[0m\n\u001b[1;32m    231\u001b[0m   \u001b[0;32mif\u001b[0m \u001b[0;32mnot\u001b[0m \u001b[0m_os\u001b[0m\u001b[0;34m.\u001b[0m\u001b[0mpath\u001b[0m\u001b[0;34m.\u001b[0m\u001b[0mexists\u001b[0m\u001b[0;34m(\u001b[0m\u001b[0mfilename\u001b[0m\u001b[0;34m)\u001b[0m\u001b[0;34m:\u001b[0m\u001b[0;34m\u001b[0m\u001b[0;34m\u001b[0m\u001b[0m\n\u001b[1;32m    232\u001b[0m     \u001b[0mmsg\u001b[0m \u001b[0;34m=\u001b[0m \u001b[0;34m'Cannot find file: {}'\u001b[0m\u001b[0;34m.\u001b[0m\u001b[0mformat\u001b[0m\u001b[0;34m(\u001b[0m\u001b[0mfilename\u001b[0m\u001b[0;34m)\u001b[0m\u001b[0;34m\u001b[0m\u001b[0;34m\u001b[0m\u001b[0m\n\u001b[0;32m--> 233\u001b[0;31m     \u001b[0;32mraise\u001b[0m \u001b[0mFileNotFoundError\u001b[0m\u001b[0;34m(\u001b[0m\u001b[0mmsg\u001b[0m\u001b[0;34m)\u001b[0m  \u001b[0;31m# pylint: disable=undefined-variable\u001b[0m\u001b[0;34m\u001b[0m\u001b[0;34m\u001b[0m\u001b[0m\n\u001b[0m\u001b[1;32m    234\u001b[0m \u001b[0;34m\u001b[0m\u001b[0m\n\u001b[1;32m    235\u001b[0m   \u001b[0mcomm_manager\u001b[0m \u001b[0;34m=\u001b[0m \u001b[0m_IPython\u001b[0m\u001b[0;34m.\u001b[0m\u001b[0mget_ipython\u001b[0m\u001b[0;34m(\u001b[0m\u001b[0;34m)\u001b[0m\u001b[0;34m.\u001b[0m\u001b[0mkernel\u001b[0m\u001b[0;34m.\u001b[0m\u001b[0mcomm_manager\u001b[0m\u001b[0;34m\u001b[0m\u001b[0;34m\u001b[0m\u001b[0m\n",
            "\u001b[0;31mFileNotFoundError\u001b[0m: Cannot find file: nn.pdf_translated.docx"
          ]
        }
      ]
    },
    {
      "cell_type": "code",
      "source": [
        "\n",
        "#@title PDF دانلود با فرمت\n",
        "!soffice --headless --convert-to pdf \"{filename}_translated.docx\"\n",
        "from google.colab import files\n",
        "files.download(f\"{filename}_translated.pdf\")"
      ],
      "metadata": {
        "cellView": "form",
        "id": "VYGsO902VtZQ",
        "outputId": "591cbb0a-a2f8-42f1-f0df-842bf762a8a2",
        "colab": {
          "base_uri": "https://localhost:8080/",
          "height": 315
        }
      },
      "execution_count": 55,
      "outputs": [
        {
          "output_type": "stream",
          "name": "stdout",
          "text": [
            "Error: source file could not be loaded\n"
          ]
        },
        {
          "output_type": "error",
          "ename": "FileNotFoundError",
          "evalue": "Cannot find file: nn.pdf_translated.pdf",
          "traceback": [
            "\u001b[0;31m---------------------------------------------------------------------------\u001b[0m",
            "\u001b[0;31mFileNotFoundError\u001b[0m                         Traceback (most recent call last)",
            "\u001b[0;32m<ipython-input-55-4cb393d686c8>\u001b[0m in \u001b[0;36m<cell line: 0>\u001b[0;34m()\u001b[0m\n\u001b[1;32m      2\u001b[0m \u001b[0mget_ipython\u001b[0m\u001b[0;34m(\u001b[0m\u001b[0;34m)\u001b[0m\u001b[0;34m.\u001b[0m\u001b[0msystem\u001b[0m\u001b[0;34m(\u001b[0m\u001b[0;34m'soffice --headless --convert-to pdf \"{filename}_translated.docx\"'\u001b[0m\u001b[0;34m)\u001b[0m\u001b[0;34m\u001b[0m\u001b[0;34m\u001b[0m\u001b[0m\n\u001b[1;32m      3\u001b[0m \u001b[0;32mfrom\u001b[0m \u001b[0mgoogle\u001b[0m\u001b[0;34m.\u001b[0m\u001b[0mcolab\u001b[0m \u001b[0;32mimport\u001b[0m \u001b[0mfiles\u001b[0m\u001b[0;34m\u001b[0m\u001b[0;34m\u001b[0m\u001b[0m\n\u001b[0;32m----> 4\u001b[0;31m \u001b[0mfiles\u001b[0m\u001b[0;34m.\u001b[0m\u001b[0mdownload\u001b[0m\u001b[0;34m(\u001b[0m\u001b[0;34mf\"{filename}_translated.pdf\"\u001b[0m\u001b[0;34m)\u001b[0m\u001b[0;34m\u001b[0m\u001b[0;34m\u001b[0m\u001b[0m\n\u001b[0m",
            "\u001b[0;32m/usr/local/lib/python3.11/dist-packages/google/colab/files.py\u001b[0m in \u001b[0;36mdownload\u001b[0;34m(filename)\u001b[0m\n\u001b[1;32m    231\u001b[0m   \u001b[0;32mif\u001b[0m \u001b[0;32mnot\u001b[0m \u001b[0m_os\u001b[0m\u001b[0;34m.\u001b[0m\u001b[0mpath\u001b[0m\u001b[0;34m.\u001b[0m\u001b[0mexists\u001b[0m\u001b[0;34m(\u001b[0m\u001b[0mfilename\u001b[0m\u001b[0;34m)\u001b[0m\u001b[0;34m:\u001b[0m\u001b[0;34m\u001b[0m\u001b[0;34m\u001b[0m\u001b[0m\n\u001b[1;32m    232\u001b[0m     \u001b[0mmsg\u001b[0m \u001b[0;34m=\u001b[0m \u001b[0;34m'Cannot find file: {}'\u001b[0m\u001b[0;34m.\u001b[0m\u001b[0mformat\u001b[0m\u001b[0;34m(\u001b[0m\u001b[0mfilename\u001b[0m\u001b[0;34m)\u001b[0m\u001b[0;34m\u001b[0m\u001b[0;34m\u001b[0m\u001b[0m\n\u001b[0;32m--> 233\u001b[0;31m     \u001b[0;32mraise\u001b[0m \u001b[0mFileNotFoundError\u001b[0m\u001b[0;34m(\u001b[0m\u001b[0mmsg\u001b[0m\u001b[0;34m)\u001b[0m  \u001b[0;31m# pylint: disable=undefined-variable\u001b[0m\u001b[0;34m\u001b[0m\u001b[0;34m\u001b[0m\u001b[0m\n\u001b[0m\u001b[1;32m    234\u001b[0m \u001b[0;34m\u001b[0m\u001b[0m\n\u001b[1;32m    235\u001b[0m   \u001b[0mcomm_manager\u001b[0m \u001b[0;34m=\u001b[0m \u001b[0m_IPython\u001b[0m\u001b[0;34m.\u001b[0m\u001b[0mget_ipython\u001b[0m\u001b[0;34m(\u001b[0m\u001b[0;34m)\u001b[0m\u001b[0;34m.\u001b[0m\u001b[0mkernel\u001b[0m\u001b[0;34m.\u001b[0m\u001b[0mcomm_manager\u001b[0m\u001b[0;34m\u001b[0m\u001b[0;34m\u001b[0m\u001b[0m\n",
            "\u001b[0;31mFileNotFoundError\u001b[0m: Cannot find file: nn.pdf_translated.pdf"
          ]
        }
      ]
    }
  ]
}